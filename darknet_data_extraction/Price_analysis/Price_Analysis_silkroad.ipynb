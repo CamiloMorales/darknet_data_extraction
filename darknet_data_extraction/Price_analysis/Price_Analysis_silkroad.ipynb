{
 "cells": [
  {
   "cell_type": "code",
   "execution_count": 19,
   "metadata": {
    "collapsed": false
   },
   "outputs": [
    {
     "data": {
      "text/plain": [
       "'1 Point of Speed'"
      ]
     },
     "execution_count": 19,
     "metadata": {},
     "output_type": "execute_result"
    }
   ],
   "source": [
    "from HTMLParser import HTMLParser\n",
    "\n",
    "class Title(HTMLParser):\n",
    "    def __init__(self):\n",
    "        HTMLParser.__init__(self)\n",
    "        self.inLink = False\n",
    "        self.lasttag = None\n",
    "        self.lastname = None\n",
    "        self.lastvalue = None\n",
    "        self.result = \"\"\n",
    "\n",
    "    def handle_starttag(self, tag, attrs):\n",
    "        self.inLink = False\n",
    "        if tag == 'span':\n",
    "            for name, value in attrs:\n",
    "                if name == 'class' and value == 'h1':\n",
    "                    self.inLink = True\n",
    "                    self.lasttag = tag\n",
    "\n",
    "    def handle_endtag(self, tag):\n",
    "        if tag == \"span\":\n",
    "            self.inlink = False\n",
    "\n",
    "    def handle_data(self, data):\n",
    "        if self.lasttag == 'span' and self.inLink and data.strip():\n",
    "            self.result = data\n",
    "\n",
    "raw_html = open('/media/camilo/KINGSTON/BlackMarkets/silkroad/item/66eefcf992/default.htm', 'r').read().replace('\\n', '').replace('\\t', '')\n",
    "#raw_html = open('/media/camilo/KINGSTON/BlackMarkets/silkroad/item/0a03acfbba', 'r').read().replace('\\n', '').replace('\\t', '')\n",
    "\n",
    "parser = Title()\n",
    "parser.feed(raw_html)\n",
    "parser.result"
   ]
  },
  {
   "cell_type": "code",
   "execution_count": 22,
   "metadata": {
    "collapsed": false
   },
   "outputs": [],
   "source": [
    "from HTMLParser import HTMLParser\n",
    "\n",
    "class Price(HTMLParser):\n",
    "    def __init__(self):\n",
    "        HTMLParser.__init__(self)\n",
    "        self.inLink = False\n",
    "        self.lasttag = None\n",
    "        self.lastname = None\n",
    "        self.lastvalue = None\n",
    "        self.result = \"\"\n",
    "\n",
    "    def handle_starttag(self, tag, attrs):\n",
    "        self.inLink = False\n",
    "        if tag == 'span':\n",
    "            for name, value in attrs:\n",
    "                if name == 'class' and value == 'price_big':\n",
    "                    self.inLink = True\n",
    "                    self.lasttag = tag\n",
    "\n",
    "    def handle_endtag(self, tag):\n",
    "        if tag == \"span\":\n",
    "            self.inlink = False\n",
    "\n",
    "    def handle_data(self, data):\n",
    "        if self.lasttag == 'span' and self.inLink and data.strip():\n",
    "            self.result = data\n",
    "\n",
    "raw_html = open('/media/camilo/KINGSTON/BlackMarkets/silkroad/item/66eefcf992/default.htm', 'r').read().replace('\\n', '').replace('\\t', '')\n",
    "#raw_html = open('/media/camilo/KINGSTON/BlackMarkets/silkroad/item/0a03acfbba', 'r').read().replace('\\n', '').replace('\\t', '')\n",
    "\n",
    "parser = Price()\n",
    "parser.feed(raw_html)"
   ]
  },
  {
   "cell_type": "code",
   "execution_count": 28,
   "metadata": {
    "collapsed": false
   },
   "outputs": [
    {
     "data": {
      "text/plain": [
       "'../../user/f4ccf569c1\\t user: kangaroostew(98)'"
      ]
     },
     "execution_count": 28,
     "metadata": {},
     "output_type": "execute_result"
    }
   ],
   "source": [
    "from HTMLParser import HTMLParser\n",
    "\n",
    "class Seller(HTMLParser):\n",
    "    def __init__(self):\n",
    "        HTMLParser.__init__(self)\n",
    "        self.inLink = False\n",
    "        self.lastdata = \"\"\n",
    "        self.href = \"\"\n",
    "        self.result = \"\"\n",
    "\n",
    "    def handle_starttag(self, tag, attrs):\n",
    "        self.inLink = False\n",
    "        if tag == 'a':\n",
    "            for name, value in attrs:\n",
    "                if name == 'href' and (value.startswith('../../user/') or value.startswith('../user/')) :\n",
    "                    self.inLink = True\n",
    "                    self.href = value\n",
    "\n",
    "    def handle_endtag(self, tag):\n",
    "        if tag == \"a\":\n",
    "            self.inlink = False\n",
    "\n",
    "    def handle_data(self, data):\n",
    "        if self.lasttag == 'a' and self.inLink and data.strip():\n",
    "            if self.lastdata.startswith(\"seller: \"):\n",
    "                self.result = self.href + \"\\t user: \" + data\n",
    "        self.lastdata = data\n",
    "            \n",
    "raw_html = open('/media/camilo/KINGSTON/BlackMarkets/silkroad/item/66eefcf992/default.htm', 'r').read().replace('\\n', '').replace('\\t', '')\n",
    "#raw_html = open('/media/camilo/KINGSTON/BlackMarkets/silkroad/item/0a03acfbba', 'r').read().replace('\\n', '').replace('\\t', '')\n",
    "\n",
    "parser = Seller()\n",
    "parser.feed(raw_html)\n",
    "parser.result"
   ]
  },
  {
   "cell_type": "code",
   "execution_count": 31,
   "metadata": {
    "collapsed": false
   },
   "outputs": [
    {
     "data": {
      "text/plain": [
       "'ships from: Australia'"
      ]
     },
     "execution_count": 31,
     "metadata": {},
     "output_type": "execute_result"
    }
   ],
   "source": [
    "from HTMLParser import HTMLParser\n",
    "\n",
    "class ShipsFrom(HTMLParser):\n",
    "    def __init__(self):\n",
    "        HTMLParser.__init__(self)\n",
    "        self.inLink = False\n",
    "        self.lastdata = \"\"\n",
    "        self.href = \"\"\n",
    "        self.result = \"\"\n",
    "\n",
    "    def handle_data(self, data):\n",
    "        if data.startswith(\"ships from:\"):\n",
    "            self.result = data\n",
    "            \n",
    "raw_html = open('/media/camilo/KINGSTON/BlackMarkets/silkroad/item/00a38d9a5c/default.htm', 'r').read().replace('\\n', '').replace('\\t', '')\n",
    "#raw_html = open('/media/camilo/KINGSTON/BlackMarkets/silkroad/item/0a03acfbba', 'r').read().replace('\\n', '').replace('\\t', '')\n",
    "\n",
    "parser = ShipsFrom()\n",
    "parser.feed(raw_html)\n",
    "parser.result"
   ]
  },
  {
   "cell_type": "code",
   "execution_count": 33,
   "metadata": {
    "collapsed": false
   },
   "outputs": [
    {
     "data": {
      "text/plain": [
       "'ships to: Australia and New Zeland'"
      ]
     },
     "execution_count": 33,
     "metadata": {},
     "output_type": "execute_result"
    }
   ],
   "source": [
    "from HTMLParser import HTMLParser\n",
    "\n",
    "class ShipsTo(HTMLParser):\n",
    "    def __init__(self):\n",
    "        HTMLParser.__init__(self)\n",
    "        self.inLink = False\n",
    "        self.lastdata = \"\"\n",
    "        self.href = \"\"\n",
    "        self.result = \"\"\n",
    "\n",
    "    def handle_data(self, data):\n",
    "        if data.startswith(\"ships to:\"):\n",
    "            self.result = data\n",
    "            \n",
    "raw_html = open('/media/camilo/KINGSTON/BlackMarkets/silkroad/item/00a38d9a5c/default.htm', 'r').read().replace('\\n', '').replace('\\t', '')\n",
    "#raw_html = open('/media/camilo/KINGSTON/BlackMarkets/silkroad/item/0a03acfbba', 'r').read().replace('\\n', '').replace('\\t', '')\n",
    "\n",
    "parser = ShipsTo()\n",
    "parser.feed(raw_html)\n",
    "parser.result"
   ]
  },
  {
   "cell_type": "code",
   "execution_count": 34,
   "metadata": {
    "collapsed": false
   },
   "outputs": [
    {
     "data": {
      "text/plain": [
       "'../../category/54\\t Category: Meth'"
      ]
     },
     "execution_count": 34,
     "metadata": {},
     "output_type": "execute_result"
    }
   ],
   "source": [
    "from HTMLParser import HTMLParser\n",
    "\n",
    "class Category(HTMLParser):\n",
    "    def __init__(self):\n",
    "        HTMLParser.__init__(self)\n",
    "        self.inLink = False\n",
    "        self.lastdata = \"\"\n",
    "        self.href = \"\"\n",
    "        self.result = \"\"\n",
    "\n",
    "    def handle_starttag(self, tag, attrs):\n",
    "        self.inLink = False\n",
    "        if tag == 'a':\n",
    "            for name, value in attrs:\n",
    "                if name == 'href' and (value.startswith('../../category/') or value.startswith('../category/')) :\n",
    "                    self.inLink = True\n",
    "                    self.href = value\n",
    "\n",
    "    def handle_endtag(self, tag):\n",
    "        if tag == \"a\":\n",
    "            self.inlink = False\n",
    "\n",
    "    def handle_data(self, data):\n",
    "        if self.lasttag == 'a' and self.inLink and data.strip():\n",
    "            if self.lastdata.startswith(\"category: \"):\n",
    "                self.result = self.href + \"\\t Category: \" + data\n",
    "        self.lastdata = data\n",
    "            \n",
    "raw_html = open('/media/camilo/KINGSTON/BlackMarkets/silkroad/item/00a38d9a5c/default.htm', 'r').read().replace('\\n', '').replace('\\t', '')\n",
    "#raw_html = open('/media/camilo/KINGSTON/BlackMarkets/silkroad/item/0a03acfbba', 'r').read().replace('\\n', '').replace('\\t', '')\n",
    "\n",
    "parser = Category()\n",
    "parser.feed(raw_html)\n",
    "parser.result"
   ]
  },
  {
   "cell_type": "code",
   "execution_count": 35,
   "metadata": {
    "collapsed": false
   },
   "outputs": [
    {
     "data": {
      "text/plain": [
       "' Description MONEY EXCHANGE  is a new concept to silkroad, and ONLY for Australia. PAWN BROKER,  LOAN SHARK,  And the first place to look when you want to buy Jewellery.  Money Exchange  is the first LOAN BTC vendor in Silkroad, WE ALSO BUY your jewellery .   Our business is personal loans for you in BTC, no credit checks, we do not care where you get the Jewellery,  no ID REQUIRED.  Grab BTC with out cash or going into the bank.  Get drug money with out going to Cash Converters then the bank this whole time you have cameras on you recording everything for police to look at PAPER TRAILS. Deal with Money Exchange for all your bitcoin loans How to loan BTC from us. First you need 2 express post satchels, you then need to put your own details, on 1 of them, and my details i supply you with, at a later stage, on the 2nd Then you need to buy Money exchange  application LISTING  It is a small non refundable fee for the appraisal of your Jewellery and our time communicating with you through the process. The next step is to post your items be sure to conceal them well, and keep the tracking number, and  the 2nd satchel with your details for when we return your item.  The next step will be after we appraise your item, we will contact you with the amount in BTC  that we can loan you,  once we have come to a agreement we send BTC asap, straight to your silkroad account. If  we can not come to a agreement we then put items the same way you posted to us in the return satchel and send asap, Now you ask what is stopping Money Exchange, from not returning your items, simple once you finalize the application form you buy, you are to leave feed back,  you can change this feedback at anytime, silkroad runs on feedback,  if only 1 person says in forums or feedback your untrustworthy it does not look good, WHAT ARE THE CONDITIONS OF THE LOAN  1,  You have 1 month to repay the loan with 40% interest,  Money Exchange will hold your item for a further 7 days that will take your interest to 50%  AFTER THAT WE  we keep your item and sell it here in  MONEY EXCHANGE, to get back our BTC.  Once you repay the LOAN BTC   your items are sent back in the return satchel. WELCOME,  MONEY EXCHANGE, SILKROADS  FIRST LOAN SHARK / PAWN BROKER, Any questions feel free to ask '"
      ]
     },
     "execution_count": 35,
     "metadata": {},
     "output_type": "execute_result"
    }
   ],
   "source": [
    "from HTMLParser import HTMLParser\n",
    "\n",
    "class Description(HTMLParser):\n",
    "    def __init__(self):\n",
    "        HTMLParser.__init__(self)\n",
    "        self.recording = False\n",
    "        self.count = 0\n",
    "        self.recordedData = \"\"\n",
    "        self.result = \"\"\n",
    "\n",
    "    def handle_starttag(self, tag, attrs):\n",
    "        if tag == 'div':\n",
    "            for name, value in attrs:\n",
    "                if (name == 'class' and ( value == 'container container_large' or value == 'h3')):\n",
    "                    self.count += 1 \n",
    "                    self.recording = True\n",
    "\n",
    "    def handle_endtag(self, tag):\n",
    "        if tag == \"div\" and self.recording:\n",
    "            if self.count == 1:\n",
    "                self.recording = False\n",
    "                self.result = self.recordedData\n",
    "            else:\n",
    "                self.count -= 1 \n",
    "        \n",
    "    def handle_data(self, data):\n",
    "        if self.recording:\n",
    "            self.recordedData = self.recordedData + \" \" + data\n",
    "            \n",
    "#raw_html = open('/media/camilo/KINGSTON/BlackMarkets/silkroad/item/66eefcf992/default.htm', 'r').read().replace('\\n', '').replace('\\t', '')\n",
    "raw_html = open('/media/camilo/KINGSTON/BlackMarkets/silkroad/item/0a03acfbba', 'r').read().replace('\\n', '').replace('\\t', '')\n",
    "\n",
    "#raw_html\n",
    "\n",
    "parser = Description()\n",
    "parser.feed(raw_html)\n",
    "parser.result"
   ]
  },
  {
   "cell_type": "code",
   "execution_count": 50,
   "metadata": {
    "collapsed": false
   },
   "outputs": [],
   "source": [
    "import os\n",
    "import cPickle\n",
    "from tempfile import TemporaryFile\n",
    "from xlwt import Workbook\n",
    "\n",
    "book = Workbook(encoding='utf-8')\n",
    "sheet1 = book.add_sheet('Sheet 1')\n",
    "\n",
    "#files_list = os.walk('/media/camilo/KINGSTON/BlackMarkets/silkroad/item').next()\n",
    "files_list = os.listdir('/media/camilo/KINGSTON/BlackMarkets/silkroad/item')\n",
    "\n",
    "for idx, current_file in enumerate(files_list):\n",
    "    \n",
    "    complete_file = '/media/camilo/KINGSTON/BlackMarkets/silkroad/item/'+current_file\n",
    "    \n",
    "    if os.path.isdir(complete_file):\n",
    "        complete_file = '/media/camilo/KINGSTON/BlackMarkets/silkroad/item/'+current_file+'/default.htm'\n",
    "    else:\n",
    "        complete_file = '/media/camilo/KINGSTON/BlackMarkets/silkroad/item/'+current_file\n",
    "    \n",
    "    raw_html = open(complete_file, 'r').read().replace('\\n', '').replace('\\t', '')\n",
    "    \n",
    "    parserTitle = Title()\n",
    "    parserTitle.feed(raw_html)\n",
    "    \n",
    "    parserPrice = Price()\n",
    "    parserPrice.feed(raw_html)\n",
    "    \n",
    "    parserSeller = Seller()\n",
    "    parserSeller.feed(raw_html)\n",
    "    \n",
    "    parserShipsFrom = ShipsFrom()\n",
    "    parserShipsFrom.feed(raw_html)\n",
    "    \n",
    "    parserShipsTo = ShipsTo()\n",
    "    parserShipsTo.feed(raw_html)\n",
    "    \n",
    "    parserCategory = Category()\n",
    "    parserCategory.feed(raw_html)\n",
    "    \n",
    "    parserDescription = Description()\n",
    "    parserDescription.feed(raw_html)\n",
    "    \n",
    "    sheet1.write(idx,0,complete_file)\n",
    "    sheet1.write(idx,1,parserTitle.result)\n",
    "    sheet1.write(idx,2,parserPrice.result)\n",
    "    sheet1.write(idx,3,parserSeller.result)\n",
    "    sheet1.write(idx,4,parserShipsFrom.result)\n",
    "    sheet1.write(idx,5,parserShipsTo.result)\n",
    "    sheet1.write(idx,6,parserCategory.result)\n",
    "    sheet1.write(idx,7,parserDescription.result)\n",
    "    \n",
    "book.save('Price_Analysis_silkroad_all.xls')\n",
    "book.save(TemporaryFile())"
   ]
  }
 ],
 "metadata": {
  "kernelspec": {
   "display_name": "Python 2",
   "language": "python",
   "name": "python2"
  },
  "language_info": {
   "codemirror_mode": {
    "name": "ipython",
    "version": 2
   },
   "file_extension": ".py",
   "mimetype": "text/x-python",
   "name": "python",
   "nbconvert_exporter": "python",
   "pygments_lexer": "ipython2",
   "version": "2.7.12"
  }
 },
 "nbformat": 4,
 "nbformat_minor": 0
}
