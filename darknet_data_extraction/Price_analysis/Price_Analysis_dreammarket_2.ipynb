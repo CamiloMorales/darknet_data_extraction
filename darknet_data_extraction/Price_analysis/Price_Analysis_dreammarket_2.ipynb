{
 "cells": [
  {
   "cell_type": "code",
   "execution_count": 4,
   "metadata": {
    "collapsed": false
   },
   "outputs": [
    {
     "data": {
      "text/plain": [
       "'14grams MDMA Moon Rocks'"
      ]
     },
     "execution_count": 4,
     "metadata": {},
     "output_type": "execute_result"
    }
   ],
   "source": [
    "from HTMLParser import HTMLParser\n",
    "\n",
    "class Title(HTMLParser):\n",
    "    def __init__(self):\n",
    "        HTMLParser.__init__(self)\n",
    "        self.recording = False\n",
    "        self.result = \"\"\n",
    "\n",
    "    def handle_starttag(self, tag, attrs):\n",
    "        self.inLink = False\n",
    "        if tag == 'div':\n",
    "            for name, value in attrs:\n",
    "                if name == 'class' and value == 'title':\n",
    "                    self.recording = True\n",
    "\n",
    "    def handle_endtag(self, tag):\n",
    "        if tag == \"div\" and self.recording:\n",
    "            self.recording = False\n",
    "\n",
    "    def handle_data(self, data):\n",
    "        if self.recording:\n",
    "            self.result = data\n",
    "\n",
    "#raw_html = open('/media/camilo/KINGSTON/BlackMarkets/dreammarket/market_2014_11_21/viewProduct_offer=2665.349779', 'r').read().replace('\\n', '').replace('\\t', '')\n",
    "raw_html = open('/media/camilo/KINGSTON/BlackMarkets/dreammarket/market_2014_07_15/viewProduct_offer=162239.813855', 'r').read().replace('\\n', '').replace('\\t', '')\n",
    "\n",
    "parser = Title()\n",
    "parser.feed(raw_html)\n",
    "parser.result"
   ]
  },
  {
   "cell_type": "code",
   "execution_count": 5,
   "metadata": {
    "collapsed": false
   },
   "outputs": [
    {
     "data": {
      "text/plain": [
       "'0.73 ($450)'"
      ]
     },
     "execution_count": 5,
     "metadata": {},
     "output_type": "execute_result"
    }
   ],
   "source": [
    "from HTMLParser import HTMLParser\n",
    "\n",
    "class Price(HTMLParser):\n",
    "    def __init__(self):\n",
    "        HTMLParser.__init__(self)\n",
    "        self.previousTagPrice = False\n",
    "        self.result = \"\"\n",
    "        \n",
    "    def handle_data(self, data):\n",
    "        if self.previousTagPrice:\n",
    "            self.result = data\n",
    "            self.previousTagPrice = False\n",
    "            return\n",
    "            \n",
    "        if data.startswith('Price'):\n",
    "            self.previousTagPrice = True\n",
    "\n",
    "#raw_html = open('/media/camilo/KINGSTON/BlackMarkets/dreammarket/market_2014_11_21/viewProduct_offer=2665.349779', 'r').read().replace('\\n', '').replace('\\t', '')\n",
    "#raw_html = open('/media/camilo/KINGSTON/BlackMarkets/dreammarket/market_2014_11_21/viewProduct_offer=129000.956655', 'r').read().replace('\\n', '').replace('\\t', '')\n",
    "#raw_html = open('/media/camilo/KINGSTON/BlackMarkets/dreammarket/market_2014_11_21/viewProduct_offer=290817.669942', 'r').read().replace('\\n', '').replace('\\t', '')\n",
    "raw_html = open('/media/camilo/KINGSTON/BlackMarkets/dreammarket/market_2014_07_15/viewProduct_offer=162239.813855', 'r').read().replace('\\n', '').replace('\\t', '')\n",
    "\n",
    "\n",
    "parser = Price()\n",
    "parser.feed(raw_html)\n",
    "parser.result"
   ]
  },
  {
   "cell_type": "code",
   "execution_count": 6,
   "metadata": {
    "collapsed": false
   },
   "outputs": [
    {
     "data": {
      "text/plain": [
       "' azuthus   '"
      ]
     },
     "execution_count": 6,
     "metadata": {},
     "output_type": "execute_result"
    }
   ],
   "source": [
    "from HTMLParser import HTMLParser\n",
    "\n",
    "class Seller(HTMLParser):\n",
    "    def __init__(self):\n",
    "        HTMLParser.__init__(self)\n",
    "        self.previousTagVendor = False\n",
    "        self.recording = False\n",
    "        self.result = \"\"\n",
    "        \n",
    "    def handle_starttag(self, tag, attrs):\n",
    "        if self.previousTagVendor and tag == 'a':\n",
    "            for name, value in attrs:\n",
    "                if name == 'href' and value.startswith('./contactMember?member'):\n",
    "                    self.recording = True\n",
    "        \n",
    "    def handle_data(self, data):\n",
    "        if self.recording:\n",
    "            self.result = data\n",
    "            self.previousTagVendor = False\n",
    "            self.recording = False\n",
    "            return\n",
    "            \n",
    "        if data.startswith('Vendor'):\n",
    "            self.previousTagVendor = True\n",
    "\n",
    "#raw_html = open('/media/camilo/KINGSTON/BlackMarkets/dreammarket/market_2014_11_21/viewProduct_offer=2665.349779', 'r').read().replace('\\n', '').replace('\\t', '')\n",
    "#raw_html = open('/media/camilo/KINGSTON/BlackMarkets/dreammarket/market_2014_11_21/viewProduct_offer=129000.956655', 'r').read().replace('\\n', '').replace('\\t', '')\n",
    "#raw_html = open('/media/camilo/KINGSTON/BlackMarkets/dreammarket/market_2014_11_21/viewProduct_offer=290817.669942', 'r').read().replace('\\n', '').replace('\\t', '')\n",
    "raw_html = open('/media/camilo/KINGSTON/BlackMarkets/dreammarket/market_2014_07_15/viewProduct_offer=162239.813855', 'r').read().replace('\\n', '').replace('\\t', '')\n",
    "\n",
    "parser = Seller()\n",
    "parser.feed(raw_html)\n",
    "parser.result"
   ]
  },
  {
   "cell_type": "code",
   "execution_count": 7,
   "metadata": {
    "collapsed": false
   },
   "outputs": [
    {
     "data": {
      "text/plain": [
       "' canada '"
      ]
     },
     "execution_count": 7,
     "metadata": {},
     "output_type": "execute_result"
    }
   ],
   "source": [
    "from HTMLParser import HTMLParser\n",
    "\n",
    "class ShipsFrom(HTMLParser):\n",
    "    def __init__(self):\n",
    "        HTMLParser.__init__(self)\n",
    "        self.previousShips = False\n",
    "        self.count = 0\n",
    "        self.result = \"\"\n",
    "        \n",
    "    def handle_data(self, data):\n",
    "        if self.previousShips:\n",
    "            self.count += 1\n",
    "            if self.count == 2:\n",
    "                self.result = data\n",
    "                self.previousShips = False\n",
    "                return\n",
    "            \n",
    "        if data.startswith('Ships from'):\n",
    "            self.previousShips = True\n",
    "\n",
    "#raw_html = open('/media/camilo/KINGSTON/BlackMarkets/dreammarket/market_2014_11_21/viewProduct_offer=2665.349779', 'r').read().replace('\\n', '').replace('\\t', '')\n",
    "#raw_html = open('/media/camilo/KINGSTON/BlackMarkets/dreammarket/market_2014_11_21/viewProduct_offer=129000.956655', 'r').read().replace('\\n', '').replace('\\t', '')\n",
    "#raw_html = open('/media/camilo/KINGSTON/BlackMarkets/dreammarket/market_2014_11_21/viewProduct_offer=290817.669942', 'r').read().replace('\\n', '').replace('\\t', '')\n",
    "raw_html = open('/media/camilo/KINGSTON/BlackMarkets/dreammarket/market_2014_07_15/viewProduct_offer=162239.813855', 'r').read().replace('\\n', '').replace('\\t', '')\n",
    "\n",
    "parser = ShipsFrom()\n",
    "parser.feed(raw_html)\n",
    "parser.result"
   ]
  },
  {
   "cell_type": "code",
   "execution_count": 9,
   "metadata": {
    "collapsed": false
   },
   "outputs": [
    {
     "data": {
      "text/plain": [
       "' High potency pure MDMA, no additives or fillers. nice moonrocks, no powder. Premium M, distinct aroma, very lucid energetic high.  '"
      ]
     },
     "execution_count": 9,
     "metadata": {},
     "output_type": "execute_result"
    }
   ],
   "source": [
    "from HTMLParser import HTMLParser\n",
    "\n",
    "class Description(HTMLParser):\n",
    "    def __init__(self):\n",
    "        HTMLParser.__init__(self)\n",
    "        self.recording = False\n",
    "        self.classNotes = False\n",
    "        self.idOffer = False\n",
    "        self.completeData = \"\"\n",
    "        self.result = \"\"\n",
    "\n",
    "    def handle_starttag(self, tag, attrs):\n",
    "        if tag == 'div':\n",
    "            for name, value in attrs:\n",
    "                if name == 'class' and value == 'preformattedNotes':\n",
    "                    self.classNotes = True\n",
    "                if name == 'id' and value == 'offerDescription':\n",
    "                    self.idOffer = True\n",
    "        if self.classNotes and self.idOffer:\n",
    "            self.recording = True\n",
    "\n",
    "    def handle_endtag(self, tag):\n",
    "        if tag == \"div\" and self.recording:\n",
    "            self.recording = False\n",
    "            self.classNotes = False\n",
    "            self.idOffer = False\n",
    "            self.result = self.completeData\n",
    "\n",
    "    def handle_data(self, data):\n",
    "        if self.recording:\n",
    "            self.completeData = self.completeData + \" \" + data\n",
    "\n",
    "#raw_html = open('/media/camilo/KINGSTON/BlackMarkets/dreammarket/market_2014_11_21/viewProduct_offer=2665.349779', 'r').read().replace('\\n', '').replace('\\t', '')\n",
    "#raw_html = open('/media/camilo/KINGSTON/BlackMarkets/dreammarket/market_2014_11_21/viewProduct_offer=129000.956655', 'r').read().replace('\\n', '').replace('\\t', '')\n",
    "#raw_html = open('/media/camilo/KINGSTON/BlackMarkets/dreammarket/market_2014_11_21/viewProduct_offer=290817.669942', 'r').read().replace('\\n', '').replace('\\t', '')\n",
    "raw_html = open('/media/camilo/KINGSTON/BlackMarkets/dreammarket/market_2014_07_15/viewProduct_offer=162239.813855', 'r').read().replace('\\n', '').replace('\\t', '')\n",
    "\n",
    "parser = Description()\n",
    "parser.feed(raw_html)\n",
    "parser.result"
   ]
  },
  {
   "cell_type": "code",
   "execution_count": 10,
   "metadata": {
    "collapsed": false
   },
   "outputs": [],
   "source": [
    "import sys  \n",
    "\n",
    "reload(sys)  \n",
    "sys.setdefaultencoding('utf8')\n",
    "\n",
    "import os\n",
    "import cPickle\n",
    "from tempfile import TemporaryFile\n",
    "from xlwt import Workbook\n",
    "import glob\n",
    "\n",
    "book = Workbook(encoding='utf-8')\n",
    "sheet1 = book.add_sheet('Sheet 1')\n",
    "\n",
    "files_list = glob.glob('/media/camilo/KINGSTON/BlackMarkets/dreammarket/market_*/viewProduct_offer=*')\n",
    "\n",
    "for idx, current_file in enumerate(files_list):\n",
    "    \n",
    "    complete_file = current_file\n",
    "    \n",
    "    raw_html = open(complete_file, 'r').read().replace('\\n', '').replace('\\t', '')\n",
    "    \n",
    "    parserTitle = Title()\n",
    "    parserTitle.feed(raw_html)\n",
    "    \n",
    "    parserPrice = Price()\n",
    "    parserPrice.feed(raw_html)\n",
    "    \n",
    "    parserSeller = Seller()\n",
    "    parserSeller.feed(raw_html)\n",
    "    \n",
    "    parserShipsFrom = ShipsFrom()\n",
    "    parserShipsFrom.feed(raw_html)\n",
    "    \n",
    "    #parserShipsTo = ShipsTo()\n",
    "    #parserShipsTo.feed(raw_html)\n",
    "    \n",
    "    #parserCategory = Category()\n",
    "    #parserCategory.feed(raw_html)\n",
    "    \n",
    "    parserDescription = Description()\n",
    "    parserDescription.feed(raw_html)\n",
    "    \n",
    "    sheet1.write(idx,0,complete_file)\n",
    "    sheet1.write(idx,1,parserTitle.result)\n",
    "    sheet1.write(idx,2,parserPrice.result)\n",
    "    sheet1.write(idx,3,parserSeller.result)\n",
    "    sheet1.write(idx,4,parserShipsFrom.result)\n",
    "    #sheet1.write(idx,5,parserShipsTo.result)\n",
    "    #sheet1.write(idx,6,parserCategory.result)\n",
    "    sheet1.write(idx,7,parserDescription.result)\n",
    "    \n",
    "book.save('Price_Analysis_dreammarket_2_all.xls')\n",
    "book.save(TemporaryFile())"
   ]
  },
  {
   "cell_type": "code",
   "execution_count": null,
   "metadata": {
    "collapsed": true
   },
   "outputs": [],
   "source": []
  }
 ],
 "metadata": {
  "kernelspec": {
   "display_name": "Python 2",
   "language": "python",
   "name": "python2"
  },
  "language_info": {
   "codemirror_mode": {
    "name": "ipython",
    "version": 2
   },
   "file_extension": ".py",
   "mimetype": "text/x-python",
   "name": "python",
   "nbconvert_exporter": "python",
   "pygments_lexer": "ipython2",
   "version": "2.7.12"
  }
 },
 "nbformat": 4,
 "nbformat_minor": 0
}
