{
 "cells": [
  {
   "cell_type": "code",
   "execution_count": 1,
   "metadata": {
    "collapsed": false
   },
   "outputs": [
    {
     "data": {
      "text/plain": [
       "'25B-NBOMe HCl (1000\\xc2\\xb5g) x25 blotter tabs'"
      ]
     },
     "execution_count": 1,
     "metadata": {},
     "output_type": "execute_result"
    }
   ],
   "source": [
    "from HTMLParser import HTMLParser\n",
    "\n",
    "class Title(HTMLParser):\n",
    "    def __init__(self):\n",
    "        HTMLParser.__init__(self)\n",
    "        self.inLink = False\n",
    "        self.result = \"\"\n",
    "\n",
    "    def handle_starttag(self, tag, attrs):\n",
    "        self.inLink = False\n",
    "        if tag == 'h2':\n",
    "            self.inLink = True\n",
    "\n",
    "    def handle_endtag(self, tag):\n",
    "        if tag == \"h2\":\n",
    "            self.inlink = False\n",
    "\n",
    "    def handle_data(self, data):\n",
    "        if self.inLink:\n",
    "            self.result = data\n",
    "\n",
    "#raw_html = open('/media/camilo/KINGSTON/BlackMarkets/dogeroad/item/00dbf62559779984', 'r').read().replace('\\n', '').replace('\\t', '')\n",
    "raw_html = open('/media/camilo/KINGSTON/BlackMarkets/dogeroad/item/501bac7ed5346729', 'r').read().replace('\\n', '').replace('\\t', '')\n",
    "\n",
    "\n",
    "parser = Title()\n",
    "parser.feed(raw_html)\n",
    "parser.result"
   ]
  },
  {
   "cell_type": "code",
   "execution_count": 2,
   "metadata": {
    "collapsed": false
   },
   "outputs": [
    {
     "data": {
      "text/plain": [
       "'DOGE21886.8188822'"
      ]
     },
     "execution_count": 2,
     "metadata": {},
     "output_type": "execute_result"
    }
   ],
   "source": [
    "from HTMLParser import HTMLParser\n",
    "\n",
    "class Price(HTMLParser):\n",
    "    def __init__(self):\n",
    "        HTMLParser.__init__(self)\n",
    "        self.inLink = False\n",
    "        self.result = \"\"\n",
    "\n",
    "    def handle_starttag(self, tag, attrs):\n",
    "        self.inLink = False\n",
    "        if tag == 'span':\n",
    "            for name, value in attrs:\n",
    "                if name == 'class' and value == 'priceValue':\n",
    "                    self.inLink = True\n",
    "\n",
    "    def handle_endtag(self, tag):\n",
    "        if tag == \"span\":\n",
    "            self.inLink = False\n",
    "\n",
    "    def handle_data(self, data):\n",
    "        if self.inLink:\n",
    "            self.result = data\n",
    "\n",
    "#raw_html = open('/media/camilo/KINGSTON/BlackMarkets/dogeroad/item/00dbf62559779984', 'r').read().replace('\\n', '').replace('\\t', '')\n",
    "raw_html = open('/media/camilo/KINGSTON/BlackMarkets/dogeroad/item/501bac7ed5346729', 'r').read().replace('\\n', '').replace('\\t', '')\n",
    "\n",
    "parser = Price()\n",
    "parser.feed(raw_html)\n",
    "parser.result"
   ]
  },
  {
   "cell_type": "code",
   "execution_count": 4,
   "metadata": {
    "collapsed": false
   },
   "outputs": [
    {
     "data": {
      "text/plain": [
       "'http://dogeroadiqt6olb6.onion/user/8c6be9495119c7e2\\t user: Righteous'"
      ]
     },
     "execution_count": 4,
     "metadata": {},
     "output_type": "execute_result"
    }
   ],
   "source": [
    "from HTMLParser import HTMLParser\n",
    "\n",
    "class Seller(HTMLParser):\n",
    "    def __init__(self):\n",
    "        HTMLParser.__init__(self)\n",
    "        self.inP = False\n",
    "        self.href = \"\"\n",
    "        self.lasttag_A = False\n",
    "        self.result = \"\"\n",
    "\n",
    "    def handle_starttag(self, tag, attrs):\n",
    "        if tag == 'p':\n",
    "            for name, value in attrs:\n",
    "                if name == 'class' and value == 'vendor':\n",
    "                    self.inP = True\n",
    "        if tag == 'a' and self.inP:\n",
    "            for name, value in attrs:\n",
    "                if name == 'href':\n",
    "                    self.href = value\n",
    "                    self.lasttag_A = True\n",
    "\n",
    "    def handle_endtag(self, tag):\n",
    "        if tag == 'a' and self.inP:\n",
    "            self.inP = False\n",
    "            self.lasttag_A = False\n",
    "\n",
    "    def handle_data(self, data):\n",
    "        if self.lasttag_A and self.inP:\n",
    "            self.result = self.href + \"\\t user: \" + data\n",
    "            \n",
    "#raw_html = open('/media/camilo/KINGSTON/BlackMarkets/dogeroad/item/00dbf62559779984', 'r').read().replace('\\n', '').replace('\\t', '')\n",
    "raw_html = open('/media/camilo/KINGSTON/BlackMarkets/dogeroad/item/501bac7ed5346729', 'r').read().replace('\\n', '').replace('\\t', '')\n",
    "\n",
    "parser = Seller()\n",
    "parser.feed(raw_html)\n",
    "parser.result"
   ]
  },
  {
   "cell_type": "code",
   "execution_count": 5,
   "metadata": {
    "collapsed": false
   },
   "outputs": [
    {
     "data": {
      "text/plain": [
       "\"Ship's From: United States\""
      ]
     },
     "execution_count": 5,
     "metadata": {},
     "output_type": "execute_result"
    }
   ],
   "source": [
    "from HTMLParser import HTMLParser\n",
    "\n",
    "class ShipsFrom(HTMLParser):\n",
    "    def __init__(self):\n",
    "        HTMLParser.__init__(self)\n",
    "        self.inLink = False\n",
    "        self.lastdata = \"\"\n",
    "        self.href = \"\"\n",
    "        self.result = \"\"\n",
    "\n",
    "    def handle_data(self, data):\n",
    "        if data.startswith(\"Ship's From:\"):\n",
    "            self.result = data\n",
    "            \n",
    "#raw_html = open('/media/camilo/KINGSTON/BlackMarkets/dogeroad/item/00dbf62559779984', 'r').read().replace('\\n', '').replace('\\t', '')\n",
    "raw_html = open('/media/camilo/KINGSTON/BlackMarkets/dogeroad/item/501bac7ed5346729', 'r').read().replace('\\n', '').replace('\\t', '')\n",
    "\n",
    "parser = ShipsFrom()\n",
    "parser.feed(raw_html)\n",
    "parser.result"
   ]
  },
  {
   "cell_type": "code",
   "execution_count": 6,
   "metadata": {
    "collapsed": false
   },
   "outputs": [
    {
     "data": {
      "text/plain": [
       "\" Ship's To:   - Worldwide   0   - United States   3000 \""
      ]
     },
     "execution_count": 6,
     "metadata": {},
     "output_type": "execute_result"
    }
   ],
   "source": [
    "from HTMLParser import HTMLParser\n",
    "\n",
    "class ShipsTo(HTMLParser):\n",
    "    def __init__(self):\n",
    "        HTMLParser.__init__(self)\n",
    "        self.inLink = False\n",
    "        self.recording = False\n",
    "        self.dataRecorded = \"\"\n",
    "        self.result = \"\"\n",
    "\n",
    "    def handle_starttag(self, tag, attrs):\n",
    "        if tag == 'div':\n",
    "            for name, value in attrs:\n",
    "                if name == 'id' and value == 'main':\n",
    "                    self.recording = True\n",
    "                    self.result = self.dataRecorded\n",
    "        \n",
    "    def handle_data(self, data):\n",
    "        if self.recording:\n",
    "            self.dataRecorded = self.dataRecorded + \" \" + data\n",
    "            return\n",
    "        \n",
    "        if data.startswith(\"Ship's To:\"):\n",
    "            self.recording = True\n",
    "            self.dataRecorded = self.dataRecorded + \" \" + data\n",
    "            return\n",
    "        \n",
    "            \n",
    "#raw_html = open('/media/camilo/KINGSTON/BlackMarkets/dogeroad/item/00dbf62559779984', 'r').read().replace('\\n', '').replace('\\t', '')\n",
    "raw_html = open('/media/camilo/KINGSTON/BlackMarkets/dogeroad/item/501bac7ed5346729', 'r').read().replace('\\n', '').replace('\\t', '')\n",
    "\n",
    "parser = ShipsTo()\n",
    "parser.feed(raw_html)\n",
    "parser.result"
   ]
  },
  {
   "cell_type": "code",
   "execution_count": 7,
   "metadata": {
    "collapsed": false
   },
   "outputs": [
    {
     "data": {
      "text/plain": [
       "\"   born too late to explore the earth born to early to explore the galaxy born just in time to explore psychedelics ordered off of the Internet I was the number one US seller in the psychedelics section on Ulbricht's with 1,000,000+ hits strong with 5.0 score. Absolutely no need to introduce myself here. You already know who I am May the force be with you DPR. May the Righteous continue to research FTW ____________________ ORDER INSTRUCTIONS: \\xc2\\xaf\\xc2\\xaf\\xc2\\xaf\\xc2\\xaf\\xc2\\xaf\\xc2\\xaf\\xc2\\xaf\\xc2\\xaf\\xc2\\xaf\\xc2\\xaf\\xc2\\xaf\\xc2\\xaf\\xc2\\xaf\\xc2\\xaf\\xc2\\xaf\\xc2\\xaf\\xc2\\xaf\\xc2\\xaf\\xc2\\xaf\\xc2\\xaf \\xe2\\x98\\x85\\xe2\\x98\\x85 FORMAT YOUR ADDRESS!!!!!!!!!!!!!!!!!!!!!!!!!!!!!!!!!!!!!! \\xe2\\x98\\x85\\xe2\\x98\\x85 DO NOT use addresses for abandoned houses. Use the USPS link below to correctly format your address. It takes out all of the guesswork on my end. Your zip code should include the four extra numbers. If you're address is not recognized by USPS, I will have to wait until you to provide me with a working one, so please make sure that you check it with the link below. Be aware that if you send me an invalid address, I'm still going to mark your order as sent even though I'm waiting for you to respond to my msg about the address being incorrect. The reason I do this is because I usually have a lengthy list of people that I'm waiting on, and I prefer to keep my dashboard clear. https://tools.usps.com/go/ZipLookupAction!input.action \\xe2\\x98\\x85\\xe2\\x98\\x85 PICK A RECIPIENT NAME \\xe2\\x98\\x85\\xe2\\x98\\x85 Out of the 1% or 2% of envelopes that never made it to my customers, most of them were ones where the customer never specified a name and I just made one up for them. I don't do this anymore. You need to select a name that's already being used at your address. It can be the name of a prior resident that is still receiving junk mail. DO NOT MISSPELL the name. Misspelled names are one of the top things that PIs look for when profiling mail for inspection. DO NOT abbreviate the first or last name. I at least need a full first and last name. You may add a middle initial, prefix and/or suffix if you feel that it will help you better identify the mail amongst your other usual mail. \\xe2\\x98\\x85\\xe2\\x98\\x85 ADDING NOTES ALONG WITH YOUR RECIPIENT INFORMATION \\xe2\\x98\\x85\\xe2\\x98\\x85 Adding a note about any deadlines that you may have is the surest way to make certain that I'm able to read it before processing your order. Often I log into my account and have hours worth of Q A to do, and it's more practical for me to get cracking on the list of orders immediately so that I can get everyone's package to the post office on time instead of spending all day doing Q A first. An example of an acceptable request is if suppose you have a deadline of Saturday for the the arrival of your Express order, and you order on Thursday night. You can put a note along with your recipient information during checkout requesting that you would like me to cancel your order if I can't make it to the post office in time on Friday. Please note that I do not fulfill requests for specific blotter designs and that I do not send portions of your purchase to multiple addresses. If you have multiple recipient address, I require that you place separate orders. Also please do not put useless information such as  Please ship to:  or  United States of America  or anything that is already duh. These just cause me a lot of backspacing every day. It is acceptable however to leave me a brief love letter describing how awesome your previous experience with me was. I love those. \\xe2\\x98\\x85\\xe2\\x98\\x85 UNIVERSITY STUDENTS \\xe2\\x98\\x85\\xe2\\x98\\x85 If you are shipping to a dormitory, be aware that there are two different addresses for accepting mail: one for USPS, and the other for FedEx/UPS. DO NOT give me the FedEx/UPS address. I only use USPS. Look through your school's resources to find the exact notation for receiving via USPS. Failure to do so will mean you never get your envelope, and I do not refund or reship for erroneous addresses. \\xe2\\x98\\x85\\xe2\\x98\\x85 ENCRYPT YOUR RECIPIENT INFORMATION \\xe2\\x98\\x85\\xe2\\x98\\x85 Please encrypt your recipient info when you make your purchases. It's not mandatory, but it's a great way to add an extra layer of security. If you haven't learned how to use PGP yet, just use haneWIN's JavascriptPG tool at http://www.hanewin.net/encrypt/PGcrypt.htm I do not recommend using privnote.com. Many orders end up having delays due to privnote errors, so if you want to ensure that I receive your recipient information correctly the first time, learn PGP. It's not really that hard. Jsyk encryption is not necessary for communication through Pandora's private messaging system unless you are resending your recipient info. Btw any info sent to me in the recipient information box during checkout gets deleted as soon as I confirm the order, so be aware that I may or may not save your public key when you send it to me along with your recipient information. Most of you have wacky e-mails in your public key block that don't even match your screen names anyway. \""
      ]
     },
     "execution_count": 7,
     "metadata": {},
     "output_type": "execute_result"
    }
   ],
   "source": [
    "from HTMLParser import HTMLParser\n",
    "\n",
    "class Description(HTMLParser):\n",
    "    def __init__(self):\n",
    "        HTMLParser.__init__(self)\n",
    "        self.inLink = False\n",
    "        self.recording = False\n",
    "        self.dataRecorded = \"\"\n",
    "        self.result = \"\"\n",
    "\n",
    "    def handle_starttag(self, tag, attrs):\n",
    "        if tag == 'div':\n",
    "            for name, value in attrs:\n",
    "                if name == 'id' and value == 'main':\n",
    "                    self.recording = True\n",
    "                    \n",
    "    def handle_endtag(self, tag):\n",
    "        if tag == 'div' and self.recording:\n",
    "            self.recording = False\n",
    "            self.result = self.dataRecorded\n",
    "        \n",
    "    def handle_data(self, data):\n",
    "        if self.recording:\n",
    "            self.dataRecorded = self.dataRecorded + \" \" + data\n",
    "            return\n",
    "        \n",
    "#raw_html = open('/media/camilo/KINGSTON/BlackMarkets/dogeroad/item/00dbf62559779984', 'r').read().replace('\\n', '').replace('\\t', '')\n",
    "raw_html = open('/media/camilo/KINGSTON/BlackMarkets/dogeroad/item/501bac7ed5346729', 'r').read().replace('\\n', '').replace('\\t', '')\n",
    "\n",
    "parser = Description()\n",
    "parser.feed(raw_html)\n",
    "parser.result"
   ]
  },
  {
   "cell_type": "code",
   "execution_count": 14,
   "metadata": {
    "collapsed": false
   },
   "outputs": [],
   "source": [
    "import sys  \n",
    "\n",
    "reload(sys)  \n",
    "sys.setdefaultencoding('utf8')\n",
    "\n",
    "import os\n",
    "import cPickle\n",
    "from tempfile import TemporaryFile\n",
    "from xlwt import Workbook\n",
    "\n",
    "book = Workbook(encoding='utf-8')\n",
    "sheet1 = book.add_sheet('Sheet 1')\n",
    "\n",
    "files_list = os.listdir('/media/camilo/KINGSTON/BlackMarkets/dogeroad/item')\n",
    "\n",
    "for idx, current_file in enumerate(files_list):\n",
    "    \n",
    "    complete_file = '/media/camilo/KINGSTON/BlackMarkets/dogeroad/item/'+current_file\n",
    "    \n",
    "    print complete_file\n",
    "    \n",
    "    raw_html = open(complete_file, 'r').read().replace('\\n', '').replace('\\t', '')\n",
    "    \n",
    "    parserTitle = Title()\n",
    "    parserTitle.feed(raw_html)\n",
    "    \n",
    "    parserPrice = Price()\n",
    "    parserPrice.feed(raw_html)\n",
    "    \n",
    "    parserSeller = Seller()\n",
    "    parserSeller.feed(raw_html)\n",
    "    \n",
    "    parserShipsFrom = ShipsFrom()\n",
    "    parserShipsFrom.feed(raw_html)\n",
    "    \n",
    "    parserShipsTo = ShipsTo()\n",
    "    parserShipsTo.feed(raw_html)\n",
    "    \n",
    "    #parserCategory = Category()\n",
    "    #parserCategory.feed(raw_html)\n",
    "    \n",
    "    parserDescription = Description()\n",
    "    parserDescription.feed(raw_html)\n",
    "    \n",
    "    sheet1.write(idx,0,complete_file)\n",
    "    sheet1.write(idx,1,parserTitle.result)\n",
    "    sheet1.write(idx,2,parserPrice.result)\n",
    "    sheet1.write(idx,3,parserSeller.result)\n",
    "    sheet1.write(idx,4,parserShipsFrom.result)\n",
    "    sheet1.write(idx,5,parserShipsTo.result)\n",
    "    #sheet1.write(idx,6,parserCategory.result)\n",
    "    sheet1.write(idx,7,parserDescription.result)\n",
    "    \n",
    "book.save('Price_Analysis_dogeroad_all.xls')\n",
    "book.save(TemporaryFile())"
   ]
  }
 ],
 "metadata": {
  "kernelspec": {
   "display_name": "Python 2",
   "language": "python",
   "name": "python2"
  },
  "language_info": {
   "codemirror_mode": {
    "name": "ipython",
    "version": 2
   },
   "file_extension": ".py",
   "mimetype": "text/x-python",
   "name": "python",
   "nbconvert_exporter": "python",
   "pygments_lexer": "ipython2",
   "version": "2.7.12"
  }
 },
 "nbformat": 4,
 "nbformat_minor": 0
}
