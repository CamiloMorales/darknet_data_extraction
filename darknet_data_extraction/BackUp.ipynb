{
 "cells": [
  {
   "cell_type": "code",
   "execution_count": null,
   "metadata": {
    "collapsed": false
   },
   "outputs": [],
   "source": [
    "from HTMLParser import HTMLParser\n",
    "from htmlentitydefs import name2codepoint\n",
    "\n",
    "class MyHTMLParser(HTMLParser):\n",
    "    def handle_starttag(self, tag, attrs):\n",
    "        print \"Start tag:\", tag\n",
    "        for attr in attrs:\n",
    "            print \"     attr:\", attr\n",
    "\n",
    "    def handle_endtag(self, tag):\n",
    "        print \"End tag  :\", tag\n",
    "\n",
    "    def handle_data(self, data):\n",
    "        print \"Data     :\", data\n",
    "\n",
    "\n",
    "parser = MyHTMLParser()\n",
    "parser.feed('<html><head><title>Test</title></head>'\n",
    "            '<body><h1>Parse me!</h1></body></html>')"
   ]
  },
  {
   "cell_type": "code",
   "execution_count": null,
   "metadata": {
    "collapsed": false
   },
   "outputs": [],
   "source": [
    "raw_html = open('/media/camilo/KINGSTON/BlackMarkets/silkroad/item/00a38d9a5c/default.htm', 'r').read().replace('\\n', '').replace('\\t', '')\n",
    "raw_html"
   ]
  },
  {
   "cell_type": "code",
   "execution_count": null,
   "metadata": {
    "collapsed": false
   },
   "outputs": [],
   "source": [
    "from HTMLParser import HTMLParser\n",
    "\n",
    "\n",
    "class AllLanguages(HTMLParser):\n",
    "    def __init__(self):\n",
    "        HTMLParser.__init__(self)\n",
    "        self.inLink = False\n",
    "        self.lasttag = None\n",
    "        self.lastname = None\n",
    "        self.lastvalue = None\n",
    "\n",
    "    def handle_starttag(self, tag, attrs):\n",
    "        self.inLink = False\n",
    "        if tag == 'a':\n",
    "            for name, value in attrs:\n",
    "                if name == 'class' and value == 'Vocabulary':\n",
    "                    self.inLink = True\n",
    "                    self.lasttag = tag\n",
    "\n",
    "    def handle_endtag(self, tag):\n",
    "        if tag == \"a\":\n",
    "            self.inlink = False\n",
    "\n",
    "    def handle_data(self, data):\n",
    "        if self.lasttag == 'a' and self.inLink and data.strip():\n",
    "            print data\n",
    "\n",
    "raw_html = open('/media/camilo/KINGSTON/BlackMarkets/silkroad/item/00a38d9a5c/default.htm', 'r').read().replace('\\n', '').replace('\\t', '')\n",
    "\n",
    "parser = AllLanguages()\n",
    "parser.feed(\"\"\"\n",
    "<html>\n",
    "<head><title>Test</title></head>\n",
    "<body>\n",
    "<a href=\"http://wold.livingsources.org/vocabulary/1\" title=\"Swahili\" class=\"Vocabulary\">Swahilgggi</a>\n",
    "<a href=\"http://wold.livingsources.org/contributor#schadebergthilo\" title=\"Thilo Schadeberg\" class=\"Contributor\">Thilo Schadeberg</a>\n",
    "<a href=\"http://wold.livingsources.org/vocabulary/2\" title=\"English\" class=\"Vocabulary\">English</a>\n",
    "<a href=\"http://wold.livingsources.org/vocabulary/2\" title=\"Russian\" class=\"Vocabulary\">Russian</a>\n",
    "</body>\n",
    "</html>\"\"\")"
   ]
  },
  {
   "cell_type": "code",
   "execution_count": 2,
   "metadata": {
    "collapsed": false
   },
   "outputs": [
    {
     "name": "stdout",
     "output_type": "stream",
     "text": [
      "1 Point of Speed\n"
     ]
    }
   ],
   "source": [
    "from HTMLParser import HTMLParser\n",
    "\n",
    "class AllLanguages(HTMLParser):\n",
    "    def __init__(self):\n",
    "        HTMLParser.__init__(self)\n",
    "        self.inLink = False\n",
    "        self.lasttag = None\n",
    "        self.lastname = None\n",
    "        self.lastvalue = None\n",
    "\n",
    "    def handle_starttag(self, tag, attrs):\n",
    "        self.inLink = False\n",
    "        if tag == 'span':\n",
    "            for name, value in attrs:\n",
    "                if name == 'class' and value == 'h1':\n",
    "                    self.inLink = True\n",
    "                    self.lasttag = tag\n",
    "\n",
    "    def handle_endtag(self, tag):\n",
    "        if tag == \"span\":\n",
    "            self.inlink = False\n",
    "\n",
    "    def handle_data(self, data):\n",
    "        if self.lasttag == 'span' and self.inLink and data.strip():\n",
    "            print data\n",
    "\n",
    "raw_html = open('/media/camilo/KINGSTON/BlackMarkets/silkroad/item/66eefcf992/default.htm', 'r').read().replace('\\n', '').replace('\\t', '')\n",
    "#raw_html = open('/media/camilo/KINGSTON/BlackMarkets/silkroad/item/0a03acfbba', 'r').read().replace('\\n', '').replace('\\t', '')\n",
    "\n",
    "parser = AllLanguages()\n",
    "parser.feed(raw_html)"
   ]
  },
  {
   "cell_type": "code",
   "execution_count": null,
   "metadata": {
    "collapsed": false
   },
   "outputs": [],
   "source": [
    "from HTMLParser import HTMLParser\n",
    "\n",
    "class AllLanguages(HTMLParser):\n",
    "    def __init__(self):\n",
    "        HTMLParser.__init__(self)\n",
    "        self.inLink = False\n",
    "        self.lasttag = None\n",
    "        self.lastname = None\n",
    "        self.lastvalue = None\n",
    "\n",
    "    def handle_starttag(self, tag, attrs):\n",
    "        self.inLink = False\n",
    "        if tag == 'span':\n",
    "            for name, value in attrs:\n",
    "                if name == 'class' and value == 'price_big':\n",
    "                    self.inLink = True\n",
    "                    self.lasttag = tag\n",
    "\n",
    "    def handle_endtag(self, tag):\n",
    "        if tag == \"span\":\n",
    "            self.inlink = False\n",
    "\n",
    "    def handle_data(self, data):\n",
    "        if self.lasttag == 'span' and self.inLink and data.strip():\n",
    "            print data\n",
    "\n",
    "raw_html = open('/media/camilo/KINGSTON/BlackMarkets/silkroad/item/66eefcf992/default.htm', 'r').read().replace('\\n', '').replace('\\t', '')\n",
    "#raw_html = open('/media/camilo/KINGSTON/BlackMarkets/silkroad/item/0a03acfbba', 'r').read().replace('\\n', '').replace('\\t', '')\n",
    "\n",
    "parser = AllLanguages()\n",
    "parser.feed(raw_html)"
   ]
  },
  {
   "cell_type": "code",
   "execution_count": null,
   "metadata": {
    "collapsed": false
   },
   "outputs": [],
   "source": [
    "from HTMLParser import HTMLParser\n",
    "\n",
    "class AllLanguages(HTMLParser):\n",
    "    def __init__(self):\n",
    "        HTMLParser.__init__(self)\n",
    "        self.inLink = False\n",
    "        self.lastdata = \"\"\n",
    "        self.href = \"\"\n",
    "\n",
    "    def handle_starttag(self, tag, attrs):\n",
    "        self.inLink = False\n",
    "        if tag == 'a':\n",
    "            for name, value in attrs:\n",
    "                if name == 'href' and (value.startswith('../../user/') or value.startswith('../user/')) :\n",
    "                    self.inLink = True\n",
    "                    self.href = value\n",
    "\n",
    "    def handle_endtag(self, tag):\n",
    "        if tag == \"a\":\n",
    "            self.inlink = False\n",
    "\n",
    "    def handle_data(self, data):\n",
    "        if self.lasttag == 'a' and self.inLink and data.strip():\n",
    "            if self.lastdata.startswith(\"seller: \"):\n",
    "                print self.href + \"\\t user: \" + data\n",
    "        self.lastdata = data\n",
    "            \n",
    "raw_html = open('/media/camilo/KINGSTON/BlackMarkets/silkroad/item/66eefcf992/default.htm', 'r').read().replace('\\n', '').replace('\\t', '')\n",
    "#raw_html = open('/media/camilo/KINGSTON/BlackMarkets/silkroad/item/0a03acfbba', 'r').read().replace('\\n', '').replace('\\t', '')\n",
    "\n",
    "parser = AllLanguages()\n",
    "parser.feed(raw_html)"
   ]
  },
  {
   "cell_type": "code",
   "execution_count": null,
   "metadata": {
    "collapsed": false
   },
   "outputs": [],
   "source": [
    "from HTMLParser import HTMLParser\n",
    "\n",
    "class AllLanguages(HTMLParser):\n",
    "    def __init__(self):\n",
    "        HTMLParser.__init__(self)\n",
    "        self.inLink = False\n",
    "        self.lastdata = \"\"\n",
    "        self.href = \"\"\n",
    "\n",
    "    def handle_data(self, data):\n",
    "        if data.startswith(\"ships from:\"):\n",
    "            print data\n",
    "            \n",
    "raw_html = open('/media/camilo/KINGSTON/BlackMarkets/silkroad/item/00a38d9a5c/default.htm', 'r').read().replace('\\n', '').replace('\\t', '')\n",
    "#raw_html = open('/media/camilo/KINGSTON/BlackMarkets/silkroad/item/0a03acfbba', 'r').read().replace('\\n', '').replace('\\t', '')\n",
    "\n",
    "parser = AllLanguages()\n",
    "parser.feed(raw_html)"
   ]
  },
  {
   "cell_type": "code",
   "execution_count": null,
   "metadata": {
    "collapsed": false
   },
   "outputs": [],
   "source": [
    "from HTMLParser import HTMLParser\n",
    "\n",
    "class AllLanguages(HTMLParser):\n",
    "    def __init__(self):\n",
    "        HTMLParser.__init__(self)\n",
    "        self.inLink = False\n",
    "        self.lastdata = \"\"\n",
    "        self.href = \"\"\n",
    "\n",
    "    def handle_data(self, data):\n",
    "        if data.startswith(\"ships to:\"):\n",
    "            print data\n",
    "            \n",
    "raw_html = open('/media/camilo/KINGSTON/BlackMarkets/silkroad/item/00a38d9a5c/default.htm', 'r').read().replace('\\n', '').replace('\\t', '')\n",
    "#raw_html = open('/media/camilo/KINGSTON/BlackMarkets/silkroad/item/0a03acfbba', 'r').read().replace('\\n', '').replace('\\t', '')\n",
    "\n",
    "parser = AllLanguages()\n",
    "parser.feed(raw_html)"
   ]
  },
  {
   "cell_type": "code",
   "execution_count": null,
   "metadata": {
    "collapsed": false
   },
   "outputs": [],
   "source": [
    "from HTMLParser import HTMLParser\n",
    "\n",
    "class AllLanguages(HTMLParser):\n",
    "    def __init__(self):\n",
    "        HTMLParser.__init__(self)\n",
    "        self.inLink = False\n",
    "        self.lastdata = \"\"\n",
    "        self.href = \"\"\n",
    "\n",
    "    def handle_starttag(self, tag, attrs):\n",
    "        self.inLink = False\n",
    "        if tag == 'a':\n",
    "            for name, value in attrs:\n",
    "                if name == 'href' and (value.startswith('../../category/') or value.startswith('../category/')) :\n",
    "                    self.inLink = True\n",
    "                    self.href = value\n",
    "\n",
    "    def handle_endtag(self, tag):\n",
    "        if tag == \"a\":\n",
    "            self.inlink = False\n",
    "\n",
    "    def handle_data(self, data):\n",
    "        if self.lasttag == 'a' and self.inLink and data.strip():\n",
    "            if self.lastdata.startswith(\"category: \"):\n",
    "                print self.href + \"\\t Category: \" + data\n",
    "        self.lastdata = data\n",
    "            \n",
    "raw_html = open('/media/camilo/KINGSTON/BlackMarkets/silkroad/item/00a38d9a5c/default.htm', 'r').read().replace('\\n', '').replace('\\t', '')\n",
    "#raw_html = open('/media/camilo/KINGSTON/BlackMarkets/silkroad/item/0a03acfbba', 'r').read().replace('\\n', '').replace('\\t', '')\n",
    "\n",
    "parser = AllLanguages()\n",
    "parser.feed(raw_html)"
   ]
  },
  {
   "cell_type": "code",
   "execution_count": null,
   "metadata": {
    "collapsed": false
   },
   "outputs": [],
   "source": [
    "from HTMLParser import HTMLParser\n",
    "\n",
    "#<div class=\"container container_large\" style=\"margin: 20px 0 40px\">\n",
    "\n",
    "class AllLanguages(HTMLParser):\n",
    "    def __init__(self):\n",
    "        HTMLParser.__init__(self)\n",
    "        self.recording = False\n",
    "\n",
    "    def handle_starttag(self, tag, attrs):\n",
    "        self.inLink = False\n",
    "        if tag == 'div':\n",
    "            for name, value in attrs:\n",
    "                if name == 'class' and value == 'container container_large' and style == 'margin: 20px 0 40px':\n",
    "                    self.recording = True\n",
    "\n",
    "    def handle_endtag(self, tag):\n",
    "        if tag == \"div\":\n",
    "            self.inlink = False\n",
    "\n",
    "    def handle_data(self, data):\n",
    "        if self.lasttag == 'div' and self.inLink and data.strip():\n",
    "            print data\n",
    "\n",
    "raw_html = open('/media/camilo/KINGSTON/BlackMarkets/silkroad/item/66eefcf992/default.htm', 'r').read().replace('\\n', '').replace('\\t', '')\n",
    "#raw_html = open('/media/camilo/KINGSTON/BlackMarkets/silkroad/item/0a03acfbba', 'r').read().replace('\\n', '').replace('\\t', '')\n",
    "\n",
    "parser = AllLanguages()\n",
    "parser.feed(raw_html)"
   ]
  },
  {
   "cell_type": "code",
   "execution_count": null,
   "metadata": {
    "collapsed": false
   },
   "outputs": [],
   "source": [
    "from HTMLParser import HTMLParser\n",
    "\n",
    "class AllLanguages(HTMLParser):\n",
    "    def __init__(self):\n",
    "        HTMLParser.__init__(self)\n",
    "        self.inLink = False\n",
    "        self.currenttag = None\n",
    "\n",
    "    def handle_starttag(self, tag, attrs):\n",
    "        self.currenttag = tag\n",
    "        \n",
    "    def handle_data(self, data):\n",
    "        if \"BY LOOKING AT THE STUFF\" in data:\n",
    "            print self.currenttag\n",
    "            print data\n",
    "            \n",
    "raw_html = open('/media/camilo/KINGSTON/BlackMarkets/silkroad/item/00a38d9a5c/default.htm', 'r').read().replace('\\n', '').replace('\\t', '')\n",
    "#raw_html = open('/media/camilo/KINGSTON/BlackMarkets/silkroad/item/0a03acfbba', 'r').read().replace('\\n', '').replace('\\t', '')\n",
    "\n",
    "parser = AllLanguages()\n",
    "parser.feed(raw_html)"
   ]
  },
  {
   "cell_type": "code",
   "execution_count": 4,
   "metadata": {
    "collapsed": false
   },
   "outputs": [
    {
     "name": "stdout",
     "output_type": "stream",
     "text": [
      "Si entra: 1\n",
      "Si entra: 0\n"
     ]
    }
   ],
   "source": [
    "from HTMLParser import HTMLParser\n",
    "\n",
    "class AllLanguages(HTMLParser):\n",
    "    def __init__(self):\n",
    "        HTMLParser.__init__(self)\n",
    "        self.recording = False\n",
    "        self.count = 1\n",
    "\n",
    "    def handle_endtag(self, tag):\n",
    "        if tag == \"div\" and self.recording and self.count == 0:\n",
    "            print \"Si entra: \" + str(self.count)\n",
    "            self.recording = False\n",
    "        elif self.count == 1:\n",
    "            print \"Si entra: \" + str(self.count)\n",
    "            self.count = self.count - 1\n",
    "\n",
    "    def handle_data(self, data):\n",
    "        if self.recording:\n",
    "            print data\n",
    "        if data.startswith(\"Description\"):\n",
    "            self.recording = True\n",
    "            \n",
    "raw_html = open('/media/camilo/KINGSTON/BlackMarkets/silkroad/item/66eefcf992/default.htm', 'r').read().replace('\\n', '').replace('\\t', '')\n",
    "#raw_html = open('/media/camilo/KINGSTON/BlackMarkets/silkroad/item/0a03acfbba', 'r').read().replace('\\n', '').replace('\\t', '')\n",
    "\n",
    "parser = AllLanguages()\n",
    "parser.feed(raw_html)"
   ]
  },
  {
   "cell_type": "code",
   "execution_count": null,
   "metadata": {
    "collapsed": false
   },
   "outputs": [],
   "source": [
    "from HTMLParser import HTMLParser\n",
    "\n",
    "class AllLanguages(HTMLParser):\n",
    "    def __init__(self):\n",
    "        HTMLParser.__init__(self)\n",
    "        self.inLink = False\n",
    "        self.lasttag = None\n",
    "        self.lastname = None\n",
    "        self.lastvalue = None\n",
    "\n",
    "    def handle_starttag(self, tag, attrs):\n",
    "        self.inLink = False\n",
    "        if tag == 'div':\n",
    "            for name, value in attrs:\n",
    "                if name == 'class' and value == 'h3':\n",
    "                    self.inLink = True\n",
    "                    self.lasttag = tag\n",
    "\n",
    "    def handle_endtag(self, tag):\n",
    "        if tag == \"div\":\n",
    "            self.inlink = False\n",
    "\n",
    "    def handle_data(self, data):\n",
    "        if self.lasttag == 'div' and self.inLink and data.strip():\n",
    "            print data\n",
    "\n",
    "raw_html = open('/media/camilo/KINGSTON/BlackMarkets/silkroad/item/00a38d9a5c/default.htm', 'r').read().replace('\\n', '').replace('\\t', '')\n",
    "#raw_html = open('/media/camilo/KINGSTON/BlackMarkets/silkroad/item/0a03acfbba', 'r').read().replace('\\n', '').replace('\\t', '')\n",
    "\n",
    "parser = AllLanguages()\n",
    "parser.feed(raw_html)"
   ]
  },
  {
   "cell_type": "code",
   "execution_count": null,
   "metadata": {
    "collapsed": true
   },
   "outputs": [],
   "source": []
  }
 ],
 "metadata": {
  "kernelspec": {
   "display_name": "Python 2",
   "language": "python",
   "name": "python2"
  },
  "language_info": {
   "codemirror_mode": {
    "name": "ipython",
    "version": 2
   },
   "file_extension": ".py",
   "mimetype": "text/x-python",
   "name": "python",
   "nbconvert_exporter": "python",
   "pygments_lexer": "ipython2",
   "version": "2.7.12"
  }
 },
 "nbformat": 4,
 "nbformat_minor": 0
}
