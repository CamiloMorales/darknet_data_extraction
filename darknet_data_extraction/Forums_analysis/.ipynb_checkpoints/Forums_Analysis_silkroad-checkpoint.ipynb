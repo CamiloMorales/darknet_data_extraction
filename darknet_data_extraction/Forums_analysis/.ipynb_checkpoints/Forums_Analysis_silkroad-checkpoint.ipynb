{
 "cells": [
  {
   "cell_type": "code",
   "execution_count": 1,
   "metadata": {
    "collapsed": false
   },
   "outputs": [],
   "source": [
    "import sys  \n",
    "\n",
    "reload(sys)  \n",
    "sys.setdefaultencoding('utf8')\n",
    "\n",
    "import os\n",
    "import cPickle\n",
    "from tempfile import TemporaryFile\n",
    "from xlwt import Workbook\n",
    "import glob\n",
    "\n",
    "book = Workbook(encoding='utf-8')\n",
    "sheet1 = book.add_sheet('Sheet 1')\n",
    "\n",
    "files_list = glob.glob('/media/camilo/KINGSTON/BlackMarkets/2014-04-19-SilkRoadForum2/posts/*')\n",
    "\n",
    "count = -1\n",
    "sheets_counter = 1\n",
    "\n",
    "for current_file in files_list:\n",
    "    \n",
    "    with open(current_file) as inputfile:\n",
    "        recording_post = False\n",
    "        print current_file\n",
    "        \n",
    "        category = \"\"\n",
    "        description = \"\"\n",
    "        alreadyFirstAuthor = False\n",
    "        \n",
    "        for line in inputfile:\n",
    "            if line.startswith('Market =>') or line.startswith('Discussion =>') or line.startswith('Support =>'):\n",
    "                divisorCategory = line.index('=> Topic started by')\n",
    "                category = line[:divisorCategory].strip()\n",
    "            if recording_post:\n",
    "                if line.startswith('Title:') or line.startswith('SMF | SMF © 2013, Simple Machines'):\n",
    "                    recording_post = False\n",
    "                    sheet1.write(count,5,description)\n",
    "                    description = \"\"\n",
    "                else:\n",
    "                    description = description + line.strip()\n",
    "            if line.startswith('Title:'):\n",
    "                count+=1\n",
    "                if(count > 1 and count % 65536 == 0):\n",
    "                    sheets_counter+=1\n",
    "                    count=0\n",
    "                    sheet1 = book.add_sheet('Sheet '+str(sheets_counter) )\n",
    "                \n",
    "                alreadyFirstAuthor = False\n",
    "                sheet1.write(count,0,current_file)\n",
    "                sheet1.write(count,1,line[7:].strip())\n",
    "            if line.startswith('    Post by:') and not alreadyFirstAuthor:\n",
    "                alreadyFirstAuthor = True\n",
    "                divisorAuthor = line.index(' on ')\n",
    "                sheet1.write(count,2,line[12:divisorAuthor].strip())\n",
    "                sheet1.write(count,3,line[divisorAuthor+4:].strip())\n",
    "                sheet1.write(count,4,category)\n",
    "                recording_post = True\n",
    "                \n",
    "book.save('Forums_Analysis_silkroad_all.xls')\n",
    "book.save(TemporaryFile())"
   ]
  },
  {
   "cell_type": "code",
   "execution_count": null,
   "metadata": {
    "collapsed": true
   },
   "outputs": [],
   "source": []
  }
 ],
 "metadata": {
  "kernelspec": {
   "display_name": "Python 2",
   "language": "python",
   "name": "python2"
  },
  "language_info": {
   "codemirror_mode": {
    "name": "ipython",
    "version": 2
   },
   "file_extension": ".py",
   "mimetype": "text/x-python",
   "name": "python",
   "nbconvert_exporter": "python",
   "pygments_lexer": "ipython2",
   "version": "2.7.12"
  }
 },
 "nbformat": 4,
 "nbformat_minor": 0
}
