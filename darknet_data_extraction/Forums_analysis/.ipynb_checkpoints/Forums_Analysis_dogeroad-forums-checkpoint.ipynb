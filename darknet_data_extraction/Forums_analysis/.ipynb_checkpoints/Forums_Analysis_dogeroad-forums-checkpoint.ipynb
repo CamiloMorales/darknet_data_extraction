{
 "cells": [
  {
   "cell_type": "code",
   "execution_count": 11,
   "metadata": {
    "collapsed": true
   },
   "outputs": [],
   "source": [
    "import sys  \n",
    "\n",
    "reload(sys)  \n",
    "sys.setdefaultencoding('utf8')\n",
    "\n",
    "import os\n",
    "import cPickle\n",
    "from tempfile import TemporaryFile\n",
    "from xlwt import Workbook\n",
    "import glob\n",
    "\n",
    "book = Workbook(encoding='utf-8')\n",
    "sheet1 = book.add_sheet('Sheet 1')\n",
    "\n",
    "files_list = glob.glob('/media/camilo/KINGSTON/BlackMarkets/dogeroad-forums/2014-02-21/index.php_topic=*')\n",
    "\n",
    "count = -1\n",
    "sheets_counter = 1\n",
    "\n",
    "for current_file in files_list:\n",
    "    with open(current_file) as inputfile:\n",
    "        for line in inputfile:\n",
    "            if 'title=\"View the profile of' in line:\n",
    "                before_author = line.index('>')\n",
    "                after_author = line.index('</a>')\n",
    "                author = line[before_author+1:after_author].strip()\n",
    "            if previous_subject:\n",
    "                previous_subject = False\n",
    "                before_post_title = line.index('>')\n",
    "                after_post_title = line.index('</a>')\n",
    "                post_title = line[before_post_title+1:after_post_title].strip()\n",
    "            if '<h5 id=\"subject_' in line:\n",
    "                previous_subject = True\n",
    "            if '<strong> on:</strong>' in line or '<strong>Reply #' in line:\n",
    "                before_timestamp = line.index('</strong>')\n",
    "                after_timestamp = line.index('</div>')\n",
    "                timestamp = line[before_timestamp+9:after_timestamp].strip()\n",
    "            if '<div class=\"inner\" id=\"msg_' in line:\n",
    "                before_post = line.index('>')\n",
    "                after_post = line.index('</div>')\n",
    "                post = line[before_post+1:after_post].strip()\n",
    "            if 'class=\"post_separator\"' in line:\n",
    "                count+=1\n",
    "                if(count > 1 and count % 65536 == 0):\n",
    "                    sheets_counter+=1\n",
    "                    count=0\n",
    "                    sheet1 = book.add_sheet('Sheet '+str(sheets_counter) )\n",
    "                sheet1.write(count,0,current_file)\n",
    "                sheet1.write(count,1,post_title)\n",
    "                sheet1.write(count,2,author)\n",
    "                sheet1.write(count,3,timestamp)\n",
    "                sheet1.write(count,4,post)\n",
    "                \n",
    "                post_title = \"\"\n",
    "                author = \"\"\n",
    "                timestamp = \"\"\n",
    "                post = \"\"\n",
    "                previous_subject = False\n",
    "                \n",
    "book.save('Forums_Analysis_dogeroad_all.xls')\n",
    "book.save(TemporaryFile())"
   ]
  },
  {
   "cell_type": "code",
   "execution_count": null,
   "metadata": {
    "collapsed": true
   },
   "outputs": [],
   "source": []
  }
 ],
 "metadata": {
  "kernelspec": {
   "display_name": "Python 2",
   "language": "python",
   "name": "python2"
  },
  "language_info": {
   "codemirror_mode": {
    "name": "ipython",
    "version": 2
   },
   "file_extension": ".py",
   "mimetype": "text/x-python",
   "name": "python",
   "nbconvert_exporter": "python",
   "pygments_lexer": "ipython2",
   "version": "2.7.12"
  }
 },
 "nbformat": 4,
 "nbformat_minor": 0
}
